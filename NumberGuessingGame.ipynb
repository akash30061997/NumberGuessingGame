{
 "cells": [
  {
   "cell_type": "code",
   "execution_count": null,
   "id": "fe432432-3749-46e5-809b-dfd4a74917f7",
   "metadata": {},
   "outputs": [
    {
     "name": "stdout",
     "output_type": "stream",
     "text": [
      " Welcome to the number Guessing Game. \n",
      " You have got 7 chances to guess the number right \n",
      " Let's start the game \n",
      "=================================================================================================================\n"
     ]
    }
   ],
   "source": [
    "import random\n",
    "print(\" Welcome to the number Guessing Game. \\n You have got 7 chances to guess the number right \\n Let's start the game \")\n",
    "print(\"=================================================================================================================\")\n",
    "number_to_guess = random.randrange(100)\n",
    "chances = 7\n",
    "guess_counter = 0\n",
    "while guess_counter < chances:\n",
    "    guess_counter +=1\n",
    "    my_guess = int(input(\"Enter a number \" ))\n",
    "\n",
    "    if my_guess == number_to_guess:\n",
    "        print(f\"You have choose the right number {number_to_guess} in your {guess_counter} attempt ! Congratulations \")\n",
    "        break\n",
    "    elif guess_counter >= chances and my_guess!=number_to_guess:\n",
    "        print(f\"Oops Sorry, the number is {number_to_guess}, Better luck next time \")\n",
    "\n",
    "    elif my_guess > number_to_guess:\n",
    "        print(f\"The number you guess is too high ! Guess a small number\")\n",
    "\n",
    "    elif my_guess < number_to_guess:\n",
    "        print('Your guess is lesser, Pick a higher number')"
   ]
  },
  {
   "cell_type": "code",
   "execution_count": null,
   "id": "e2aed81f-5d26-49c7-b1aa-5deb62411111",
   "metadata": {},
   "outputs": [],
   "source": []
  }
 ],
 "metadata": {
  "kernelspec": {
   "display_name": "Python 3 (ipykernel)",
   "language": "python",
   "name": "python3"
  },
  "language_info": {
   "codemirror_mode": {
    "name": "ipython",
    "version": 3
   },
   "file_extension": ".py",
   "mimetype": "text/x-python",
   "name": "python",
   "nbconvert_exporter": "python",
   "pygments_lexer": "ipython3",
   "version": "3.12.4"
  }
 },
 "nbformat": 4,
 "nbformat_minor": 5
}
